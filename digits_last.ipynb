{
 "cells": [
  {
   "cell_type": "markdown",
   "metadata": {},
   "source": [
    "## Digit Recognizer\n",
    "https://www.kaggle.com/c/digit-recognizer"
   ]
  },
  {
   "cell_type": "raw",
   "metadata": {},
   "source": [
    "Преподаватель: Вячеслав Мурашкин\n",
    "Необходимо построить классификатор изображений рукописного ввода на базе MNIST. В качестве шаблона можно использовать ipython-ноутбук 002-digit.ipynb.\n",
    "Классификатор предлагается строить на признаках, полученных в результате предобработки изображений, например, гистограммы градиентов (HOG) или результат PCA преобразования.\n",
    "В качестве модели классификатора можно использовать любую известную модель, за исключением сверточных нейронных сетей.\n",
    "\n",
    "**Критерии качества **\n",
    "Метрика accuracy. Чтобы получить зачёт по работе работе, значение метрики должно быть больше 0.6. Метрика оценивается на тестовой выборке в рамках контеста Digit Recognizer на Kaggle.\n",
    "\n",
    "Как сдавать\n",
    "Решение необходимо предоставить в виде** ipytnon-ноутбука** с реализацией процесса построения модели и скриншота с финальным результатом на Kaggle"
   ]
  },
  {
   "cell_type": "code",
   "execution_count": 1,
   "metadata": {},
   "outputs": [],
   "source": [
    "%matplotlib inline\n",
    "import cv2\n",
    "import numpy as np\n",
    "import matplotlib.pyplot as plt\n",
    "import pandas as pd\n",
    "\n",
    "from sklearn.model_selection import train_test_split\n",
    "from sklearn.model_selection import cross_val_score\n",
    "from sklearn.svm import LinearSVC\n",
    "from sklearn.ensemble import RandomForestClassifier\n",
    "from sklearn.linear_model import LogisticRegression\n",
    "from sklearn import linear_model\n",
    "from sklearn.neighbors import KNeighborsClassifier\n",
    "from sklearn.tree import DecisionTreeClassifier\n",
    "#import xgboost\n",
    "from xgboost import XGBClassifier\n",
    "from sklearn.metrics import confusion_matrix\n",
    "\n",
    "\n",
    "\n",
    "\n",
    "from sklearn.metrics import accuracy_score\n",
    "\n",
    "from sklearn.metrics import classification_report"
   ]
  },
  {
   "cell_type": "code",
   "execution_count": 2,
   "metadata": {},
   "outputs": [],
   "source": [
    "train = np.loadtxt('./data/digit/train.csv', delimiter=',', skiprows=1)\n",
    "test = np.loadtxt('./data/digit/test.csv', delimiter=',', skiprows=1)"
   ]
  },
  {
   "cell_type": "code",
   "execution_count": 3,
   "metadata": {},
   "outputs": [
    {
     "data": {
      "text/plain": [
       "(28000, 784)"
      ]
     },
     "execution_count": 3,
     "metadata": {},
     "output_type": "execute_result"
    }
   ],
   "source": [
    "test.shape"
   ]
  },
  {
   "cell_type": "code",
   "execution_count": 4,
   "metadata": {},
   "outputs": [],
   "source": [
    "# сохраняем разметку в отдельную переменную\n",
    "train_label = train[:, 0]\n",
    "# приводим размерность к удобному для обаботки виду\n",
    "train_img = np.resize(train[:, 1:], (train.shape[0], 28, 28))\n",
    "test_img = np.resize(test, (test.shape[0], 28, 28))"
   ]
  },
  {
   "cell_type": "code",
   "execution_count": 69,
   "metadata": {},
   "outputs": [],
   "source": [
    "\n",
    "X_train, X_valid, y_train, y_valid = train_test_split(np.resize(train_img, (train.shape[0], 28*28)), train_label, test_size=0.30, random_state=42)"
   ]
  },
  {
   "cell_type": "code",
   "execution_count": 70,
   "metadata": {},
   "outputs": [],
   "source": [
    "estimators = {\n",
    "    \n",
    "   \n",
    "    'knn': KNeighborsClassifier(n_jobs=-1),\n",
    "    'tree': DecisionTreeClassifier(),\n",
    "    'forest': linear_model.SGDClassifier(n_jobs=-1),\n",
    "    'SVC': LinearSVC(),\n",
    "    'XGB': XGBClassifier(n_jobs=-1)\n",
    "}"
   ]
  },
  {
   "cell_type": "code",
   "execution_count": 7,
   "metadata": {},
   "outputs": [],
   "source": [
    "estimators = {\n",
    "    \n",
    "   \n",
    "    'knn': KNeighborsClassifier(n_jobs=-1),}"
   ]
  },
  {
   "cell_type": "code",
   "execution_count": 71,
   "metadata": {},
   "outputs": [],
   "source": [
    "results=pd.DataFrame(columns=['model','Mean_cross_val_Accuracy','Valid_Accuracy'])"
   ]
  },
  {
   "cell_type": "code",
   "execution_count": null,
   "metadata": {},
   "outputs": [],
   "source": [
    " results = results.append({'model' : 'cv_'+Xes , 'mean_cv_train_score' : scores.mean(),'test_score':test_score} , ignore_index=True)"
   ]
  },
  {
   "cell_type": "code",
   "execution_count": 72,
   "metadata": {},
   "outputs": [
    {
     "data": {
      "text/html": [
       "<div>\n",
       "<style scoped>\n",
       "    .dataframe tbody tr th:only-of-type {\n",
       "        vertical-align: middle;\n",
       "    }\n",
       "\n",
       "    .dataframe tbody tr th {\n",
       "        vertical-align: top;\n",
       "    }\n",
       "\n",
       "    .dataframe thead th {\n",
       "        text-align: right;\n",
       "    }\n",
       "</style>\n",
       "<table border=\"1\" class=\"dataframe\">\n",
       "  <thead>\n",
       "    <tr style=\"text-align: right;\">\n",
       "      <th></th>\n",
       "      <th>model</th>\n",
       "      <th>Mean_cross_val_Accuracy</th>\n",
       "      <th>Valid_Accuracy</th>\n",
       "    </tr>\n",
       "  </thead>\n",
       "  <tbody>\n",
       "  </tbody>\n",
       "</table>\n",
       "</div>"
      ],
      "text/plain": [
       "Empty DataFrame\n",
       "Columns: [model, Mean_cross_val_Accuracy, Valid_Accuracy]\n",
       "Index: []"
      ]
     },
     "execution_count": 72,
     "metadata": {},
     "output_type": "execute_result"
    }
   ],
   "source": [
    "results"
   ]
  },
  {
   "cell_type": "code",
   "execution_count": null,
   "metadata": {},
   "outputs": [],
   "source": []
  },
  {
   "cell_type": "code",
   "execution_count": 73,
   "metadata": {},
   "outputs": [
    {
     "name": "stdout",
     "output_type": "stream",
     "text": [
      "knn Mean_cross_val_Accuracy  0.9622452608908219  Valid_Accuracy:  0.9655555555555555\n",
      "____________________________________________________________________\n",
      "tree Mean_cross_val_Accuracy  0.843504648839923  Valid_Accuracy:  0.8454761904761905\n",
      "____________________________________________________________________\n"
     ]
    },
    {
     "name": "stderr",
     "output_type": "stream",
     "text": [
      "C:\\Users\\gpog001\\AppData\\Local\\Continuum\\anaconda3\\lib\\site-packages\\sklearn\\linear_model\\stochastic_gradient.py:166: FutureWarning: max_iter and tol parameters have been added in SGDClassifier in 0.19. If both are left unset, they default to max_iter=5 and tol=None. If tol is not None, max_iter defaults to max_iter=1000. From 0.21, default max_iter will be 1000, and default tol will be 1e-3.\n",
      "  FutureWarning)\n"
     ]
    },
    {
     "name": "stdout",
     "output_type": "stream",
     "text": [
      "forest Mean_cross_val_Accuracy  0.8570753359438628  Valid_Accuracy:  0.8701587301587301\n",
      "____________________________________________________________________\n"
     ]
    },
    {
     "name": "stderr",
     "output_type": "stream",
     "text": [
      "C:\\Users\\gpog001\\AppData\\Local\\Continuum\\anaconda3\\lib\\site-packages\\sklearn\\svm\\base.py:922: ConvergenceWarning: Liblinear failed to converge, increase the number of iterations.\n",
      "  \"the number of iterations.\", ConvergenceWarning)\n"
     ]
    },
    {
     "name": "stdout",
     "output_type": "stream",
     "text": [
      "SVC Mean_cross_val_Accuracy  0.85289082571931  Valid_Accuracy:  0.8727777777777778\n",
      "____________________________________________________________________\n",
      "XGB Mean_cross_val_Accuracy  0.9310206088617065  Valid_Accuracy:  0.9292063492063493\n",
      "____________________________________________________________________\n",
      "Wall time: 22min 50s\n"
     ]
    }
   ],
   "source": [
    "%%time\n",
    "for est in estimators: \n",
    "    globals()[est]=estimators[est]\n",
    "    eval(est).fit(X_train,y_train)\n",
    "    cross_val_scores = cross_val_score(eval(est), X_train,y_train, cv=5,n_jobs=-1)\n",
    "    valid_score=accuracy_score(y_valid, eval(est).predict(X_valid))\n",
    "    print(est+' Mean_cross_val_Accuracy ',cross_val_scores.mean(),' Valid_Accuracy: ' ,valid_score)\n",
    "    results = results.append({'model' : est , 'Mean_cross_val_Accuracy' : cross_val_scores.mean(),'Valid_Accuracy':valid_score} , ignore_index=True)\n",
    "    print('____________________________________________________________________')"
   ]
  },
  {
   "cell_type": "code",
   "execution_count": 16,
   "metadata": {},
   "outputs": [
    {
     "name": "stdout",
     "output_type": "stream",
     "text": [
      "knn Mean train Accuracy  0.9622452608908219  Valid Accuracy:  0.9655555555555555\n",
      "____________________________________________________________________\n",
      "tree Mean train Accuracy  0.8427221682047012  Valid Accuracy:  0.849047619047619\n",
      "____________________________________________________________________\n"
     ]
    },
    {
     "name": "stderr",
     "output_type": "stream",
     "text": [
      "C:\\Users\\gpog001\\AppData\\Local\\Continuum\\anaconda3\\lib\\site-packages\\sklearn\\linear_model\\stochastic_gradient.py:166: FutureWarning: max_iter and tol parameters have been added in SGDClassifier in 0.19. If both are left unset, they default to max_iter=5 and tol=None. If tol is not None, max_iter defaults to max_iter=1000. From 0.21, default max_iter will be 1000, and default tol will be 1e-3.\n",
      "  FutureWarning)\n"
     ]
    },
    {
     "name": "stdout",
     "output_type": "stream",
     "text": [
      "forest Mean train Accuracy  0.8506117167921452  Valid Accuracy:  0.8723809523809524\n",
      "____________________________________________________________________\n"
     ]
    },
    {
     "name": "stderr",
     "output_type": "stream",
     "text": [
      "C:\\Users\\gpog001\\AppData\\Local\\Continuum\\anaconda3\\lib\\site-packages\\sklearn\\svm\\base.py:922: ConvergenceWarning: Liblinear failed to converge, increase the number of iterations.\n",
      "  \"the number of iterations.\", ConvergenceWarning)\n"
     ]
    },
    {
     "name": "stdout",
     "output_type": "stream",
     "text": [
      "SVC Mean train Accuracy  0.8488089201883702  Valid Accuracy:  0.8682539682539683\n",
      "____________________________________________________________________\n",
      "XGB Mean train Accuracy  0.9310206088617065  Valid Accuracy:  0.9292063492063493\n",
      "____________________________________________________________________\n",
      "Wall time: 22min 51s\n"
     ]
    }
   ],
   "source": [
    "%%time\n",
    "for est in estimators: \n",
    "    globals()[est]=estimators[est]\n",
    "    eval(est).fit(X_train,y_train)\n",
    "    val_scores = cross_val_score(eval(est), X_train,y_train, cv=5,n_jobs=-1)\n",
    "    test_score=accuracy_score(y_valid, eval(est).predict(X_valid))\n",
    "    print(est+' Mean train Accuracy ',val_scores.mean(),' Valid Accuracy: ' ,test_score)\n",
    "    results = results.append({'model' : est , 'mean_train_score' : val_scores.mean(),'test_score':test_score} , ignore_index=True)\n",
    "    print('____________________________________________________________________')"
   ]
  },
  {
   "cell_type": "markdown",
   "metadata": {},
   "source": [
    "### Ок, определили у нас лучше все рабоатют knn и  XGB. Оставим пока только их для дальнеших тестов"
   ]
  },
  {
   "cell_type": "code",
   "execution_count": 66,
   "metadata": {},
   "outputs": [
    {
     "data": {
      "text/html": [
       "<div>\n",
       "<style scoped>\n",
       "    .dataframe tbody tr th:only-of-type {\n",
       "        vertical-align: middle;\n",
       "    }\n",
       "\n",
       "    .dataframe tbody tr th {\n",
       "        vertical-align: top;\n",
       "    }\n",
       "\n",
       "    .dataframe thead th {\n",
       "        text-align: right;\n",
       "    }\n",
       "</style>\n",
       "<table border=\"1\" class=\"dataframe\">\n",
       "  <thead>\n",
       "    <tr style=\"text-align: right;\">\n",
       "      <th></th>\n",
       "      <th>model</th>\n",
       "      <th>Mean_cross_val_Accuracy</th>\n",
       "      <th>Valid_Accuracy</th>\n",
       "      <th>Mean_cross_val_scores</th>\n",
       "    </tr>\n",
       "  </thead>\n",
       "  <tbody>\n",
       "    <tr>\n",
       "      <th>0</th>\n",
       "      <td>knn_deckew</td>\n",
       "      <td>NaN</td>\n",
       "      <td>0.965556</td>\n",
       "      <td>0.962245</td>\n",
       "    </tr>\n",
       "    <tr>\n",
       "      <th>1</th>\n",
       "      <td>XGB_deckew</td>\n",
       "      <td>NaN</td>\n",
       "      <td>0.929206</td>\n",
       "      <td>0.931021</td>\n",
       "    </tr>\n",
       "  </tbody>\n",
       "</table>\n",
       "</div>"
      ],
      "text/plain": [
       "        model  Mean_cross_val_Accuracy  Valid_Accuracy  Mean_cross_val_scores \n",
       "0  knn_deckew                      NaN        0.965556                0.962245\n",
       "1  XGB_deckew                      NaN        0.929206                0.931021"
      ]
     },
     "execution_count": 66,
     "metadata": {},
     "output_type": "execute_result"
    }
   ],
   "source": [
    "results"
   ]
  },
  {
   "cell_type": "code",
   "execution_count": 74,
   "metadata": {},
   "outputs": [],
   "source": [
    "estimators = {\n",
    "    \n",
    "   \n",
    "    'knn': KNeighborsClassifier(n_jobs=-1),\n",
    "    #'tree': DecisionTreeClassifier(),\n",
    "    #'forest': linear_model.SGDClassifier(n_jobs=-1),\n",
    "    #'SVC': LinearSVC(),\n",
    "    'XGB': XGBClassifier(n_jobs=-1)\n",
    "}"
   ]
  },
  {
   "cell_type": "code",
   "execution_count": 10,
   "metadata": {},
   "outputs": [
    {
     "data": {
      "text/plain": [
       "array([[1196,    0,   10,    3,    2,    1,    9,    0,    2,    8],\n",
       "       [   0, 1384,   19,    5,   11,    3,    3,   26,   14,    3],\n",
       "       [   0,    1, 1223,    9,    0,    0,    1,    2,    3,    1],\n",
       "       [   0,    0,    4, 1299,    0,   30,    0,    0,   19,   13],\n",
       "       [   0,    0,    2,    0, 1181,    1,    1,    2,    3,   13],\n",
       "       [   0,    0,    2,   14,    0, 1034,    2,    0,   20,    1],\n",
       "       [   4,    4,    2,    2,    4,   11, 1239,    0,    5,    0],\n",
       "       [   0,    0,   28,    8,    2,    0,    0, 1311,    2,   18],\n",
       "       [   0,    0,    4,    7,    0,    1,    1,    0, 1127,    2],\n",
       "       [   0,    0,    0,    8,   22,    4,    0,   18,   14, 1172]],\n",
       "      dtype=int64)"
      ]
     },
     "execution_count": 10,
     "metadata": {},
     "output_type": "execute_result"
    }
   ],
   "source": [
    "confusion_matrix(knn.predict(X_test),y_test)"
   ]
  },
  {
   "cell_type": "code",
   "execution_count": 79,
   "metadata": {},
   "outputs": [],
   "source": []
  },
  {
   "cell_type": "markdown",
   "metadata": {},
   "source": [
    "### Любопытно, что мы не угадываем"
   ]
  },
  {
   "cell_type": "code",
   "execution_count": 26,
   "metadata": {},
   "outputs": [],
   "source": [
    "y_pred=knn.predict(X_valid)"
   ]
  },
  {
   "cell_type": "code",
   "execution_count": 41,
   "metadata": {},
   "outputs": [],
   "source": [
    "test_img=np.resize(X_test[:, 1:], (X_test.shape[0], 28, 28))"
   ]
  },
  {
   "cell_type": "code",
   "execution_count": 27,
   "metadata": {},
   "outputs": [],
   "source": [
    "def draw_numbers(X,y_test,y_pred,row=5,col=4):\n",
    "    fig = plt.figure(figsize=(20, 10))\n",
    "    ax = []\n",
    "    for i, img in enumerate(X[0:row*col], 1):\n",
    "        ax.append( fig.add_subplot(row, col, i) )\n",
    "        ax[-1].set_title('y_p '+str(y_pred[i - 1])+';'+'y_t '+str(y_test[i - 1])) \n",
    "        plt.axis('off')\n",
    "        plt.imshow(img, cmap='gray')\n",
    "    "
   ]
  },
  {
   "cell_type": "code",
   "execution_count": 29,
   "metadata": {
    "scrolled": false
   },
   "outputs": [
    {
     "data": {
      "image/png": "[encoded data removed]",
      "text/plain": [
       "<Figure size 1440x720 with 144 Axes>"
      ]
     },
     "metadata": {
      "needs_background": "light"
     },
     "output_type": "display_data"
    }
   ],
   "source": [
    "draw_numbers(np.resize(X_valid[np.where( y_pred!= y_valid )][:, 1:], (X_valid[np.where( y_pred!= y_valid )].shape[0], 28, 28)),y_valid[np.where( y_pred!= y_valid )],y_pred[np.where( y_pred!= y_valid)],12,12)"
   ]
  },
  {
   "cell_type": "code",
   "execution_count": 19,
   "metadata": {},
   "outputs": [],
   "source": [
    "# Если честно, я многие из них сам не могу угадать"
   ]
  },
  {
   "cell_type": "markdown",
   "metadata": {},
   "source": [
    "### Засабмитим для любопытссва реузультат KNN"
   ]
  },
  {
   "cell_type": "code",
   "execution_count": null,
   "metadata": {},
   "outputs": [],
   "source": [
    "pred_test=knn.predict(np.resize(test_img, (test.shape[0], 28*28)))"
   ]
  },
  {
   "cell_type": "code",
   "execution_count": 91,
   "metadata": {},
   "outputs": [],
   "source": [
    "with open('submit.txt', 'w') as dst:\n",
    "    dst.write('ImageId,Label\\n')\n",
    "    for i, p in enumerate(pred_test, 1):\n",
    "        dst.write('%s,%s\\n' % (i, int(p) ))"
   ]
  },
  {
   "cell_type": "code",
   "execution_count": 92,
   "metadata": {
    "scrolled": true
   },
   "outputs": [
    {
     "data": {
      "image/png": "[encoded data removed]",
      "text/plain": [
       "<IPython.core.display.Image object>"
      ]
     },
     "execution_count": 92,
     "metadata": {},
     "output_type": "execute_result"
    }
   ],
   "source": [
    "from IPython.display import Image\n",
    "Image('submit_without_all.png')"
   ]
  },
  {
   "cell_type": "code",
   "execution_count": null,
   "metadata": {},
   "outputs": [],
   "source": [
    "фильтр лапласа\n"
   ]
  },
  {
   "cell_type": "code",
   "execution_count": 112,
   "metadata": {},
   "outputs": [],
   "source": [
    "train_lapl = np.zeros_like(train_img)\n",
    "for i in range(len(train_img)):\n",
    "    train_lapl[i] = cv2.Laplacian(train_img[i], cv2.CV_64F, ksize=3)"
   ]
  },
  {
   "cell_type": "code",
   "execution_count": 113,
   "metadata": {},
   "outputs": [
    {
     "data": {
      "image/png": "[encoded data removed]",
      "text/plain": [
       "<Figure size 1440x720 with 6 Axes>"
      ]
     },
     "metadata": {
      "needs_background": "light"
     },
     "output_type": "display_data"
    }
   ],
   "source": [
    "fig2 = plt.figure(figsize=(20, 10))\n",
    "for i, img in enumerate(train_lapl[: 6],1):    \n",
    "    subplot2 = fig2.add_subplot(1,6,i)\n",
    "    plt.imshow(img, cmap='gray')\n",
    "    plt.title('%d' % train_label[i - 1])\n",
    "    #subplot = fig2.add_subplot(3,6, i)\n",
    "    #plt.plot(range(0,28),train_ln[i])"
   ]
  },
  {
   "cell_type": "code",
   "execution_count": 114,
   "metadata": {},
   "outputs": [
    {
     "data": {
      "image/png": "[encoded data removed]",
      "text/plain": [
       "<Figure size 1440x720 with 6 Axes>"
      ]
     },
     "metadata": {
      "needs_background": "light"
     },
     "output_type": "display_data"
    }
   ],
   "source": [
    "fig2 = plt.figure(figsize=(20, 10))\n",
    "for i, img in enumerate(train_img[: 6],1):    \n",
    "    subplot2 = fig2.add_subplot(1,6,i)\n",
    "    plt.imshow(img, cmap='gray')\n",
    "    plt.title('%d' % train_label[i - 1])\n",
    "    #subplot = fig2.add_subplot(3,6, i)\n",
    "    #plt.plot(range(0,28),train_ln[i])"
   ]
  },
  {
   "cell_type": "code",
   "execution_count": null,
   "metadata": {},
   "outputs": [],
   "source": []
  },
  {
   "cell_type": "code",
   "execution_count": 30,
   "metadata": {},
   "outputs": [
    {
     "data": {
      "text/plain": [
       "<matplotlib.image.AxesImage at 0x2232ea783c8>"
      ]
     },
     "execution_count": 30,
     "metadata": {},
     "output_type": "execute_result"
    },
    {
     "data": {
      "image/png": "[encoded data removed]",
      "text/plain": [
       "<Figure size 432x288 with 1 Axes>"
      ]
     },
     "metadata": {
      "needs_background": "light"
     },
     "output_type": "display_data"
    }
   ],
   "source": [
    "plt.imshow(train_img[0], cmap='gray')"
   ]
  },
  {
   "cell_type": "code",
   "execution_count": 34,
   "metadata": {},
   "outputs": [],
   "source": [
    "def deskew(img):\n",
    "    m = cv2.moments(img)\n",
    "    if abs(m['mu02']) < 1e-2:\n",
    "        return img.copy()\n",
    "    skew = m['mu11']/m['mu02']\n",
    "    M = np.float32([[1, skew, -0.5*SZ*skew], [0, 1, 0]])\n",
    "    img = cv2.warpAffine(img,M,(SZ, SZ),flags=affine_flags)\n",
    "    return img"
   ]
  },
  {
   "cell_type": "code",
   "execution_count": 35,
   "metadata": {},
   "outputs": [],
   "source": []
  },
  {
   "cell_type": "code",
   "execution_count": 135,
   "metadata": {},
   "outputs": [
    {
     "data": {
      "text/plain": [
       "<matplotlib.image.AxesImage at 0x2232e4ad780>"
      ]
     },
     "execution_count": 135,
     "metadata": {},
     "output_type": "execute_result"
    },
    {
     "data": {
      "image/png": "[encoded data removed]",
      "text/plain": [
       "<Figure size 432x288 with 1 Axes>"
      ]
     },
     "metadata": {
      "needs_background": "light"
     },
     "output_type": "display_data"
    }
   ],
   "source": [
    "plt.imshow(deskew(train_img[0]), cmap='gray')"
   ]
  },
  {
   "cell_type": "code",
   "execution_count": 75,
   "metadata": {},
   "outputs": [],
   "source": [
    "def deskew(img):\n",
    "    SZ=img.shape[0]\n",
    "    \n",
    "    m = cv2.moments(img)\n",
    "    if abs(m['mu02']) < 1e-2:\n",
    "        # no deskewing needed. \n",
    "        return img.copy()\n",
    "    # Calculate skew based on central momemts. \n",
    "    skew = m['mu11']/m['mu02']\n",
    "    # Calculate affine transform to correct skewness. \n",
    "    M = np.float32([[1, skew, -0.5*SZ*skew], [0, 1, 0]])\n",
    "    # Apply affine transform\n",
    "    img = cv2.warpAffine(img, M, (SZ, SZ), flags=cv2.WARP_INVERSE_MAP | cv2.INTER_LINEAR)\n",
    "    return img"
   ]
  },
  {
   "cell_type": "code",
   "execution_count": 136,
   "metadata": {},
   "outputs": [],
   "source": [
    "train_img_deckew= np.array(list(map(deskew, train_img)))\n"
   ]
  },
  {
   "cell_type": "code",
   "execution_count": 137,
   "metadata": {},
   "outputs": [],
   "source": [
    "test_img_deckew= np.array(list(map(deskew, test_img)))"
   ]
  },
  {
   "cell_type": "code",
   "execution_count": 138,
   "metadata": {},
   "outputs": [
    {
     "data": {
      "text/plain": [
       "<matplotlib.image.AxesImage at 0x22322de2e10>"
      ]
     },
     "execution_count": 138,
     "metadata": {},
     "output_type": "execute_result"
    },
    {
     "data": {
      "image/png": "[encoded data removed]",
      "text/plain": [
       "<Figure size 432x288 with 1 Axes>"
      ]
     },
     "metadata": {
      "needs_background": "light"
     },
     "output_type": "display_data"
    }
   ],
   "source": [
    "plt.imshow(deskew(train_img_deckew[0]), cmap='gray')"
   ]
  },
  {
   "cell_type": "code",
   "execution_count": 139,
   "metadata": {},
   "outputs": [],
   "source": [
    "X_train_deckew, X_valid_deckew, y_train, y_valid_ = train_test_split(np.resize(train_img_deckew, (train.shape[0], 28*28)), train_label, test_size=0.30, random_state=42)"
   ]
  },
  {
   "cell_type": "code",
   "execution_count": 82,
   "metadata": {},
   "outputs": [
    {
     "name": "stdout",
     "output_type": "stream",
     "text": [
      "knn Mean_cross_val_Accuracy  0.9739117620901359  Valid_Accuracy:  0.9765873015873016\n",
      "____________________________________________________________________\n",
      "XGB Mean_cross_val_Accuracy  0.9536389493357179  Valid_Accuracy:  0.9499206349206349\n",
      "____________________________________________________________________\n",
      "Wall time: 23min 25s\n"
     ]
    }
   ],
   "source": [
    "%%time\n",
    "for est in estimators: \n",
    "    globals()[est+'_deckew']=estimators[est]\n",
    "    eval(est+'_deckew').fit(X_train_deckew,y_train)\n",
    "    cross_val_scores = cross_val_score(eval(est+'_deckew'), X_train_deckew,y_train, cv=5,n_jobs=-1)\n",
    "    valid_score=accuracy_score(y_valid, eval(est+'_deckew').predict(X_valid_deckew))\n",
    "    print(est+' Mean_cross_val_Accuracy ',cross_val_scores.mean(),' Valid_Accuracy: ' ,valid_score)\n",
    "    results = results.append({'model' : est+'_deckew' , 'Mean_cross_val_Accuracy' : cross_val_scores.mean(),'Valid_Accuracy':valid_score} , ignore_index=True)\n",
    "    print('____________________________________________________________________')"
   ]
  },
  {
   "cell_type": "code",
   "execution_count": null,
   "metadata": {},
   "outputs": [],
   "source": []
  },
  {
   "cell_type": "code",
   "execution_count": 83,
   "metadata": {},
   "outputs": [
    {
     "data": {
      "text/html": [
       "<div>\n",
       "<style scoped>\n",
       "    .dataframe tbody tr th:only-of-type {\n",
       "        vertical-align: middle;\n",
       "    }\n",
       "\n",
       "    .dataframe tbody tr th {\n",
       "        vertical-align: top;\n",
       "    }\n",
       "\n",
       "    .dataframe thead th {\n",
       "        text-align: right;\n",
       "    }\n",
       "</style>\n",
       "<table border=\"1\" class=\"dataframe\">\n",
       "  <thead>\n",
       "    <tr style=\"text-align: right;\">\n",
       "      <th></th>\n",
       "      <th>model</th>\n",
       "      <th>Mean_cross_val_Accuracy</th>\n",
       "      <th>Valid_Accuracy</th>\n",
       "    </tr>\n",
       "  </thead>\n",
       "  <tbody>\n",
       "    <tr>\n",
       "      <th>0</th>\n",
       "      <td>knn</td>\n",
       "      <td>0.962245</td>\n",
       "      <td>0.965556</td>\n",
       "    </tr>\n",
       "    <tr>\n",
       "      <th>1</th>\n",
       "      <td>tree</td>\n",
       "      <td>0.843505</td>\n",
       "      <td>0.845476</td>\n",
       "    </tr>\n",
       "    <tr>\n",
       "      <th>2</th>\n",
       "      <td>forest</td>\n",
       "      <td>0.857075</td>\n",
       "      <td>0.870159</td>\n",
       "    </tr>\n",
       "    <tr>\n",
       "      <th>3</th>\n",
       "      <td>SVC</td>\n",
       "      <td>0.852891</td>\n",
       "      <td>0.872778</td>\n",
       "    </tr>\n",
       "    <tr>\n",
       "      <th>4</th>\n",
       "      <td>XGB</td>\n",
       "      <td>0.931021</td>\n",
       "      <td>0.929206</td>\n",
       "    </tr>\n",
       "    <tr>\n",
       "      <th>5</th>\n",
       "      <td>knn_deckew</td>\n",
       "      <td>0.962245</td>\n",
       "      <td>0.965556</td>\n",
       "    </tr>\n",
       "    <tr>\n",
       "      <th>6</th>\n",
       "      <td>knn_deckew</td>\n",
       "      <td>0.973912</td>\n",
       "      <td>0.976587</td>\n",
       "    </tr>\n",
       "    <tr>\n",
       "      <th>7</th>\n",
       "      <td>XGB_deckew</td>\n",
       "      <td>0.953639</td>\n",
       "      <td>0.949921</td>\n",
       "    </tr>\n",
       "  </tbody>\n",
       "</table>\n",
       "</div>"
      ],
      "text/plain": [
       "        model  Mean_cross_val_Accuracy  Valid_Accuracy\n",
       "0         knn                 0.962245        0.965556\n",
       "1        tree                 0.843505        0.845476\n",
       "2      forest                 0.857075        0.870159\n",
       "3         SVC                 0.852891        0.872778\n",
       "4         XGB                 0.931021        0.929206\n",
       "5  knn_deckew                 0.962245        0.965556\n",
       "6  knn_deckew                 0.973912        0.976587\n",
       "7  XGB_deckew                 0.953639        0.949921"
      ]
     },
     "execution_count": 83,
     "metadata": {},
     "output_type": "execute_result"
    }
   ],
   "source": [
    "results"
   ]
  },
  {
   "cell_type": "code",
   "execution_count": null,
   "metadata": {},
   "outputs": [],
   "source": []
  },
  {
   "cell_type": "code",
   "execution_count": 163,
   "metadata": {},
   "outputs": [],
   "source": [
    "y_pred=knn_deckew.predict(X_test_deckew)"
   ]
  },
  {
   "cell_type": "code",
   "execution_count": 164,
   "metadata": {},
   "outputs": [
    {
     "data": {
      "text/plain": [
       "(12600,)"
      ]
     },
     "execution_count": 164,
     "metadata": {},
     "output_type": "execute_result"
    }
   ],
   "source": [
    "y_pred.shape"
   ]
  },
  {
   "cell_type": "code",
   "execution_count": 168,
   "metadata": {},
   "outputs": [],
   "source": [
    "pred_test_deckew=knn_deckew.predict(np.resize(test_img_deckew, (test.shape[0], 28*28)))"
   ]
  },
  {
   "cell_type": "code",
   "execution_count": 167,
   "metadata": {},
   "outputs": [
    {
     "data": {
      "text/plain": [
       "array([2., 0., 9., ..., 3., 9., 2.])"
      ]
     },
     "execution_count": 167,
     "metadata": {},
     "output_type": "execute_result"
    }
   ],
   "source": [
    "pred_test"
   ]
  },
  {
   "cell_type": "code",
   "execution_count": null,
   "metadata": {},
   "outputs": [],
   "source": [
    "## scores = cross_val_score(clf, x_train, y_train, cv=5)"
   ]
  },
  {
   "cell_type": "code",
   "execution_count": null,
   "metadata": {},
   "outputs": [],
   "source": [
    "squared = list(map(lambda x: x**2, items))"
   ]
  },
  {
   "cell_type": "code",
   "execution_count": null,
   "metadata": {},
   "outputs": [],
   "source": []
  },
  {
   "cell_type": "code",
   "execution_count": null,
   "metadata": {},
   "outputs": [],
   "source": [
    "#x,y of the gradient using Sobel filter\n",
    "sobel_x = np.zeros_like(X)\n",
    "sobel_y = np.zeros_like(X)\n",
    "for i in range(len(X)):\n",
    "    sobel_x[i] = cv2.Sobel(X[i], cv2.CV_64F, dx=1, dy=0, ksize=3)\n",
    "    sobel_y[i] = cv2.Sobel(X[i], cv2.CV_64F, dx=0, dy=1, ksize=3)\n",
    "        \n",
    "        #angle and length of a vector\n",
    "g, theta = cv2.cartToPolar(sobel_x, sobel_y)"
   ]
  },
  {
   "cell_type": "code",
   "execution_count": 227,
   "metadata": {},
   "outputs": [],
   "source": [
    "def hog(X,ksize=3):\n",
    "    sobel_x = np.zeros_like(X)\n",
    "    sobel_y = np.zeros_like(X)\n",
    "    for i in range(len(X)):\n",
    "        sobel_x[i] = cv2.Sobel(X[i], cv2.CV_64F, dx=1, dy=0, ksize=ksize)\n",
    "        sobel_y[i] = cv2.Sobel(X[i], cv2.CV_64F, dx=0, dy=1, ksize=ksize)\n",
    "        \n",
    "        #angle and length of a vector\n",
    "    g, theta = cv2.cartToPolar(sobel_x, sobel_y)\n",
    "    return g, theta\n",
    "   \n",
    "        "
   ]
  },
  {
   "cell_type": "code",
   "execution_count": 164,
   "metadata": {},
   "outputs": [],
   "source": [
    "train_deckew_g, train_deckew_theta=hog(train_img_deckew)"
   ]
  },
  {
   "cell_type": "code",
   "execution_count": 165,
   "metadata": {},
   "outputs": [],
   "source": [
    "test_deckew_g, test_deckew_theta=hog(test_img_deckew)"
   ]
  },
  {
   "cell_type": "code",
   "execution_count": 228,
   "metadata": {},
   "outputs": [
    {
     "data": {
      "image/png": "[encoded data removed]",
      "text/plain": [
       "<Figure size 1440x720 with 5 Axes>"
      ]
     },
     "metadata": {
      "needs_background": "light"
     },
     "output_type": "display_data"
    }
   ],
   "source": [
    "fig = plt.figure(figsize=(20, 10))\n",
    "for i, img in enumerate(train_deckew_g[0:5], 1):\n",
    "    subplot = fig.add_subplot(1, 7, i)\n",
    "    plt.imshow(img, cmap='gray');\n",
    "    subplot.set_title('%s' % train_label[i - 1])\n",
    "    "
   ]
  },
  {
   "cell_type": "code",
   "execution_count": 170,
   "metadata": {
    "scrolled": true
   },
   "outputs": [
    {
     "data": {
      "image/png": "[encoded data removed]",
      "text/plain": [
       "<Figure size 1440x720 with 5 Axes>"
      ]
     },
     "metadata": {
      "needs_background": "light"
     },
     "output_type": "display_data"
    }
   ],
   "source": [
    "fig = plt.figure(figsize=(20, 10))\n",
    "for i, img in enumerate(train_deckew_theta[0:5], 1):\n",
    "    subplot = fig.add_subplot(1, 7, i)\n",
    "    plt.imshow(img, cmap='gray');\n",
    "    subplot.set_title('%s' % train_label[i - 1])"
   ]
  },
  {
   "cell_type": "code",
   "execution_count": 171,
   "metadata": {},
   "outputs": [],
   "source": [
    "#train_deckew_g, train_deckew_theta\n",
    "train_deckew_hist = np.zeros((len(train_img_deckew), 16))\n",
    "for i in range(len(train_img_deckew)):\n",
    "    hist, borders = np.histogram(train_deckew_theta[i],\n",
    "                                 bins=16,\n",
    "                                 range=(0., 2. * np.pi),\n",
    "                                 weights=train_deckew_g[i])\n",
    "    train_deckew_hist[i] = hist"
   ]
  },
  {
   "cell_type": "code",
   "execution_count": null,
   "metadata": {},
   "outputs": [],
   "source": [
    "test_deckew_hist = np.zeros((len(test_img_deckew), 16))\n",
    "for i in range(len(test_img_deckew)):\n",
    "    hist, borders = np.histogram(test_deckew_theta[i],\n",
    "                                 bins=16,\n",
    "                                 range=(0., 2. * np.pi),\n",
    "                                 weights=test_deckew_g[i])\n",
    "    test_deckew_hist[i] = hist"
   ]
  },
  {
   "cell_type": "code",
   "execution_count": 172,
   "metadata": {
    "scrolled": true
   },
   "outputs": [
    {
     "data": {
      "text/plain": [
       "(42000, 28, 28)"
      ]
     },
     "execution_count": 172,
     "metadata": {},
     "output_type": "execute_result"
    }
   ],
   "source": [
    "train_img_deckew.shape"
   ]
  },
  {
   "cell_type": "code",
   "execution_count": 173,
   "metadata": {},
   "outputs": [
    {
     "ename": "SyntaxError",
     "evalue": "unexpected EOF while parsing (<ipython-input-173-b995d98112c6>, line 1)",
     "output_type": "error",
     "traceback": [
      "\u001b[1;36m  File \u001b[1;32m\"<ipython-input-173-b995d98112c6>\"\u001b[1;36m, line \u001b[1;32m1\u001b[0m\n\u001b[1;33m    len(train_img_deckew[0][0]\u001b[0m\n\u001b[1;37m                              ^\u001b[0m\n\u001b[1;31mSyntaxError\u001b[0m\u001b[1;31m:\u001b[0m unexpected EOF while parsing\n"
     ]
    }
   ],
   "source": [
    "len(train_img_deckew[0][0]"
   ]
  },
  {
   "cell_type": "code",
   "execution_count": 174,
   "metadata": {},
   "outputs": [
    {
     "data": {
      "text/plain": [
       "(array([1., 0., 2., 1., 2., 5., 3., 1., 0., 1.]),\n",
       " array([ 5406.45247519,  6677.3485983 ,  7948.24472141,  9219.14084451,\n",
       "        10490.03696762, 11760.93309073, 13031.82921383, 14302.72533694,\n",
       "        15573.62146005, 16844.51758315, 18115.41370626]),\n",
       " <a list of 10 Patch objects>)"
      ]
     },
     "execution_count": 174,
     "metadata": {},
     "output_type": "execute_result"
    },
    {
     "data": {
      "image/png": "[encoded data removed]",
      "text/plain": [
       "<Figure size 432x288 with 1 Axes>"
      ]
     },
     "metadata": {
      "needs_background": "light"
     },
     "output_type": "display_data"
    }
   ],
   "source": [
    "plt.hist(train_deckew_hist[1])"
   ]
  },
  {
   "cell_type": "code",
   "execution_count": 155,
   "metadata": {},
   "outputs": [
    {
     "data": {
      "image/png": "[encoded data removed]",
      "text/plain": [
       "<Figure size 1440x720 with 10 Axes>"
      ]
     },
     "metadata": {
      "needs_background": "light"
     },
     "output_type": "display_data"
    }
   ],
   "source": [
    "\n",
    "fig = plt.figure(figsize=(20, 10))\n",
    "for i, img in enumerate(train_g[:5], 1):\n",
    "    subplot = fig.add_subplot(1, 7, i)\n",
    "    plt.imshow(img, cmap='gray');\n",
    "    subplot.set_title('%s' % train_label[i - 1]);\n",
    "    subplot = fig.add_subplot(3, 7, i)\n",
    "    plt.hist(train_theta[i - 1].flatten(),\n",
    "             bins=16, weights=train_g[i - 1].flatten())"
   ]
  },
  {
   "cell_type": "code",
   "execution_count": 175,
   "metadata": {},
   "outputs": [],
   "source": []
  },
  {
   "cell_type": "code",
   "execution_count": 177,
   "metadata": {},
   "outputs": [
    {
     "data": {
      "text/plain": [
       "(array([8., 4., 0., 1., 1., 0., 0., 1., 0., 1.]),\n",
       " array([  125.64788349,  2512.00892341,  4898.36996334,  7284.73100326,\n",
       "         9671.09204318, 12057.45308311, 14443.81412303, 16830.17516295,\n",
       "        19216.53620288, 21602.8972428 , 23989.25828272]),\n",
       " <a list of 10 Patch objects>)"
      ]
     },
     "execution_count": 177,
     "metadata": {},
     "output_type": "execute_result"
    },
    {
     "data": {
      "image/png": "[encoded data removed]",
      "text/plain": [
       "<Figure size 432x288 with 1 Axes>"
      ]
     },
     "metadata": {
      "needs_background": "light"
     },
     "output_type": "display_data"
    }
   ],
   "source": [
    "plt.hist(train_deckew_hist[0])"
   ]
  },
  {
   "cell_type": "code",
   "execution_count": 179,
   "metadata": {},
   "outputs": [
    {
     "data": {
      "text/plain": [
       "(array([8., 4., 0., 1., 1., 0., 0., 1., 0., 1.]),\n",
       " array([0.00367548, 0.07348187, 0.14328826, 0.21309464, 0.28290103,\n",
       "        0.35270742, 0.42251381, 0.4923202 , 0.56212658, 0.63193297,\n",
       "        0.70173936]),\n",
       " <a list of 10 Patch objects>)"
      ]
     },
     "execution_count": 179,
     "metadata": {},
     "output_type": "execute_result"
    },
    {
     "data": {
      "image/png": "[encoded data removed]",
      "text/plain": [
       "<Figure size 432x288 with 1 Axes>"
      ]
     },
     "metadata": {
      "needs_background": "light"
     },
     "output_type": "display_data"
    }
   ],
   "source": [
    "plt.hist(train_deckew_hist[0])"
   ]
  },
  {
   "cell_type": "code",
   "execution_count": null,
   "metadata": {},
   "outputs": [],
   "source": [
    "train_deckew_hist"
   ]
  },
  {
   "cell_type": "code",
   "execution_count": 178,
   "metadata": {},
   "outputs": [],
   "source": [
    "# По умолчанию используется L2 норма\n",
    "train_deckew_hist = train_deckew_hist / np.linalg.norm(train_deckew_hist, axis=1)[:, None]"
   ]
  },
  {
   "cell_type": "code",
   "execution_count": 180,
   "metadata": {},
   "outputs": [],
   "source": [
    "test_deckew_hist = test_deckew_hist / np.linalg.norm(test_deckew_hist, axis=1)[:, None]"
   ]
  },
  {
   "cell_type": "code",
   "execution_count": 220,
   "metadata": {},
   "outputs": [],
   "source": [
    "X_deckew_hist_train, X_deckew_hist_valid, y_train, y_valid = train_test_split(train_deckew_hist, train_label, test_size=0.30, random_state=42)"
   ]
  },
  {
   "cell_type": "code",
   "execution_count": null,
   "metadata": {},
   "outputs": [],
   "source": []
  },
  {
   "cell_type": "code",
   "execution_count": 221,
   "metadata": {},
   "outputs": [
    {
     "name": "stdout",
     "output_type": "stream",
     "text": [
      "knn Mean_cross_val_Accuracy  0.6743882348697297  Valid_Accuracy:  0.6763492063492064\n",
      "____________________________________________________________________\n",
      "XGB Mean_cross_val_Accuracy  0.6959523443939473  Valid_Accuracy:  0.6973809523809524\n",
      "____________________________________________________________________\n",
      "Wall time: 1min 8s\n"
     ]
    }
   ],
   "source": [
    "%%time\n",
    "for est in estimators: \n",
    "    globals()[est+'_deckew_hist']=estimators[est]\n",
    "    eval(est+'_deckew_hist').fit(X_deckew_hist_train,y_train)\n",
    "    cross_val_scores = cross_val_score(eval(est+'_deckew_hist'), X_deckew_hist_train,y_train, cv=5,n_jobs=-1)\n",
    "    valid_score=accuracy_score(y_valid, eval(est+'_deckew_hist').predict(X_deckew_hist_valid))\n",
    "    print(est+' Mean_cross_val_Accuracy ',cross_val_scores.mean(),' Valid_Accuracy: ' ,valid_score)\n",
    "    results = results.append({'model' : est+'_deckew_hist' , 'Mean_cross_val_Accuracy' : cross_val_scores.mean(),'Valid_Accuracy':valid_score} , ignore_index=True)\n",
    "    print('____________________________________________________________________')"
   ]
  },
  {
   "cell_type": "code",
   "execution_count": 224,
   "metadata": {},
   "outputs": [
    {
     "data": {
      "text/html": [
       "<div>\n",
       "<style scoped>\n",
       "    .dataframe tbody tr th:only-of-type {\n",
       "        vertical-align: middle;\n",
       "    }\n",
       "\n",
       "    .dataframe tbody tr th {\n",
       "        vertical-align: top;\n",
       "    }\n",
       "\n",
       "    .dataframe thead th {\n",
       "        text-align: right;\n",
       "    }\n",
       "</style>\n",
       "<table border=\"1\" class=\"dataframe\">\n",
       "  <thead>\n",
       "    <tr style=\"text-align: right;\">\n",
       "      <th></th>\n",
       "      <th>model</th>\n",
       "      <th>Mean_cross_val_Accuracy</th>\n",
       "      <th>Valid_Accuracy</th>\n",
       "    </tr>\n",
       "  </thead>\n",
       "  <tbody>\n",
       "    <tr>\n",
       "      <th>0</th>\n",
       "      <td>knn</td>\n",
       "      <td>0.962245</td>\n",
       "      <td>0.965556</td>\n",
       "    </tr>\n",
       "    <tr>\n",
       "      <th>1</th>\n",
       "      <td>tree</td>\n",
       "      <td>0.843505</td>\n",
       "      <td>0.845476</td>\n",
       "    </tr>\n",
       "    <tr>\n",
       "      <th>2</th>\n",
       "      <td>forest</td>\n",
       "      <td>0.857075</td>\n",
       "      <td>0.870159</td>\n",
       "    </tr>\n",
       "    <tr>\n",
       "      <th>3</th>\n",
       "      <td>SVC</td>\n",
       "      <td>0.852891</td>\n",
       "      <td>0.872778</td>\n",
       "    </tr>\n",
       "    <tr>\n",
       "      <th>4</th>\n",
       "      <td>XGB</td>\n",
       "      <td>0.931021</td>\n",
       "      <td>0.929206</td>\n",
       "    </tr>\n",
       "    <tr>\n",
       "      <th>6</th>\n",
       "      <td>knn_deckew</td>\n",
       "      <td>0.973912</td>\n",
       "      <td>0.976587</td>\n",
       "    </tr>\n",
       "    <tr>\n",
       "      <th>7</th>\n",
       "      <td>XGB_deckew</td>\n",
       "      <td>0.953639</td>\n",
       "      <td>0.949921</td>\n",
       "    </tr>\n",
       "    <tr>\n",
       "      <th>8</th>\n",
       "      <td>knn_deckew_hist</td>\n",
       "      <td>0.674388</td>\n",
       "      <td>0.676349</td>\n",
       "    </tr>\n",
       "    <tr>\n",
       "      <th>9</th>\n",
       "      <td>XGB_deckew_hist</td>\n",
       "      <td>0.695952</td>\n",
       "      <td>0.697381</td>\n",
       "    </tr>\n",
       "  </tbody>\n",
       "</table>\n",
       "</div>"
      ],
      "text/plain": [
       "             model  Mean_cross_val_Accuracy  Valid_Accuracy\n",
       "0              knn                 0.962245        0.965556\n",
       "1             tree                 0.843505        0.845476\n",
       "2           forest                 0.857075        0.870159\n",
       "3              SVC                 0.852891        0.872778\n",
       "4              XGB                 0.931021        0.929206\n",
       "6       knn_deckew                 0.973912        0.976587\n",
       "7       XGB_deckew                 0.953639        0.949921\n",
       "8  knn_deckew_hist                 0.674388        0.676349\n",
       "9  XGB_deckew_hist                 0.695952        0.697381"
      ]
     },
     "execution_count": 224,
     "metadata": {},
     "output_type": "execute_result"
    }
   ],
   "source": [
    "results"
   ]
  },
  {
   "cell_type": "code",
   "execution_count": 223,
   "metadata": {},
   "outputs": [],
   "source": [
    "#results=results.drop([5])\n",
    "\n"
   ]
  },
  {
   "cell_type": "code",
   "execution_count": 126,
   "metadata": {},
   "outputs": [
    {
     "data": {
      "text/html": [
       "<div>\n",
       "<style scoped>\n",
       "    .dataframe tbody tr th:only-of-type {\n",
       "        vertical-align: middle;\n",
       "    }\n",
       "\n",
       "    .dataframe tbody tr th {\n",
       "        vertical-align: top;\n",
       "    }\n",
       "\n",
       "    .dataframe thead th {\n",
       "        text-align: right;\n",
       "    }\n",
       "</style>\n",
       "<table border=\"1\" class=\"dataframe\">\n",
       "  <thead>\n",
       "    <tr style=\"text-align: right;\">\n",
       "      <th></th>\n",
       "      <th>model</th>\n",
       "      <th>Mean_cross_val_Accuracy</th>\n",
       "      <th>Valid_Accuracy</th>\n",
       "    </tr>\n",
       "  </thead>\n",
       "  <tbody>\n",
       "    <tr>\n",
       "      <th>0</th>\n",
       "      <td>knn</td>\n",
       "      <td>0.962245</td>\n",
       "      <td>0.965556</td>\n",
       "    </tr>\n",
       "    <tr>\n",
       "      <th>1</th>\n",
       "      <td>tree</td>\n",
       "      <td>0.843505</td>\n",
       "      <td>0.845476</td>\n",
       "    </tr>\n",
       "    <tr>\n",
       "      <th>2</th>\n",
       "      <td>forest</td>\n",
       "      <td>0.857075</td>\n",
       "      <td>0.870159</td>\n",
       "    </tr>\n",
       "    <tr>\n",
       "      <th>3</th>\n",
       "      <td>SVC</td>\n",
       "      <td>0.852891</td>\n",
       "      <td>0.872778</td>\n",
       "    </tr>\n",
       "    <tr>\n",
       "      <th>4</th>\n",
       "      <td>XGB</td>\n",
       "      <td>0.931021</td>\n",
       "      <td>0.929206</td>\n",
       "    </tr>\n",
       "    <tr>\n",
       "      <th>5</th>\n",
       "      <td>knn_deckew</td>\n",
       "      <td>0.962245</td>\n",
       "      <td>0.965556</td>\n",
       "    </tr>\n",
       "    <tr>\n",
       "      <th>6</th>\n",
       "      <td>knn_deckew</td>\n",
       "      <td>0.973912</td>\n",
       "      <td>0.976587</td>\n",
       "    </tr>\n",
       "    <tr>\n",
       "      <th>7</th>\n",
       "      <td>XGB_deckew</td>\n",
       "      <td>0.953639</td>\n",
       "      <td>0.949921</td>\n",
       "    </tr>\n",
       "  </tbody>\n",
       "</table>\n",
       "</div>"
      ],
      "text/plain": [
       "        model  Mean_cross_val_Accuracy  Valid_Accuracy\n",
       "0         knn                 0.962245        0.965556\n",
       "1        tree                 0.843505        0.845476\n",
       "2      forest                 0.857075        0.870159\n",
       "3         SVC                 0.852891        0.872778\n",
       "4         XGB                 0.931021        0.929206\n",
       "5  knn_deckew                 0.962245        0.965556\n",
       "6  knn_deckew                 0.973912        0.976587\n",
       "7  XGB_deckew                 0.953639        0.949921"
      ]
     },
     "execution_count": 126,
     "metadata": {},
     "output_type": "execute_result"
    }
   ],
   "source": [
    "results"
   ]
  },
  {
   "cell_type": "code",
   "execution_count": 111,
   "metadata": {},
   "outputs": [],
   "source": [
    "train_g, train_theta=hog(train_img)"
   ]
  },
  {
   "cell_type": "code",
   "execution_count": 112,
   "metadata": {},
   "outputs": [],
   "source": [
    "test_g, test_theta=hog(test_img)"
   ]
  },
  {
   "cell_type": "code",
   "execution_count": 115,
   "metadata": {},
   "outputs": [],
   "source": [
    " #Гистограммы вычисляются с учетом длины вектора градиента\n",
    "train_hist = np.zeros((len(train_img), 16))\n",
    "for i in range(len(train_img)):\n",
    "    hist, borders = np.histogram(train_theta[i],\n",
    "                                 bins=16,\n",
    "                                 range=(0., 2. * np.pi),\n",
    "                                 weights=train_g[i])\n",
    "    train_hist[i] = hist"
   ]
  },
  {
   "cell_type": "code",
   "execution_count": 116,
   "metadata": {},
   "outputs": [],
   "source": [
    "test_hist = np.zeros((len(test_img), 16))\n",
    "for i in range(len(test_img)):\n",
    "    hist, borders = np.histogram(test_theta[i],\n",
    "                                 bins=16,\n",
    "                                 range=(0., 2. * np.pi),\n",
    "                                 weights=test_g[i])\n",
    "    test_hist[i] = hist"
   ]
  },
  {
   "cell_type": "code",
   "execution_count": 117,
   "metadata": {},
   "outputs": [],
   "source": [
    "# По умолчанию используется L2 норма\n",
    "train_hist = train_hist / np.linalg.norm(train_hist, axis=1)[:, None]"
   ]
  },
  {
   "cell_type": "code",
   "execution_count": 118,
   "metadata": {},
   "outputs": [],
   "source": [
    "test_hist = test_hist / np.linalg.norm(test_hist, axis=1)[:, None]"
   ]
  },
  {
   "cell_type": "code",
   "execution_count": 214,
   "metadata": {},
   "outputs": [],
   "source": [
    "X_hist_train, X_hist_valid, y_train, y_valid = train_test_split(train_hist, train_label, test_size=0.30, random_state=42)"
   ]
  },
  {
   "cell_type": "code",
   "execution_count": null,
   "metadata": {},
   "outputs": [],
   "source": []
  },
  {
   "cell_type": "code",
   "execution_count": null,
   "metadata": {},
   "outputs": [],
   "source": []
  },
  {
   "cell_type": "code",
   "execution_count": 225,
   "metadata": {},
   "outputs": [
    {
     "name": "stdout",
     "output_type": "stream",
     "text": [
      "knn Mean_cross_val_Accuracy  0.5771069215620527  Valid_Accuracy:  0.5793650793650794\n",
      "____________________________________________________________________\n",
      "XGB Mean_cross_val_Accuracy  0.6310194509705583  Valid_Accuracy:  0.6265079365079365\n",
      "____________________________________________________________________\n",
      "Wall time: 57.5 s\n"
     ]
    }
   ],
   "source": [
    "%%time\n",
    "for est in estimators: \n",
    "    globals()[est+'_hist']=estimators[est]\n",
    "    eval(est+'_hist').fit(X_hist_train,y_train)\n",
    "    cross_val_scores = cross_val_score(eval(est+'_hist'), X_hist_train,y_train, cv=5,n_jobs=-1)\n",
    "    valid_score=accuracy_score(y_valid, eval(est+'_hist').predict(X_hist_valid))\n",
    "    print(est+' Mean_cross_val_Accuracy ',cross_val_scores.mean(),' Valid_Accuracy: ' ,valid_score)\n",
    "    results = results.append({'model' : est+'_hist' , 'Mean_cross_val_Accuracy' : cross_val_scores.mean(),'Valid_Accuracy':valid_score} , ignore_index=True)\n",
    "    print('____________________________________________________________________')"
   ]
  },
  {
   "cell_type": "code",
   "execution_count": 226,
   "metadata": {},
   "outputs": [
    {
     "data": {
      "text/html": [
       "<div>\n",
       "<style scoped>\n",
       "    .dataframe tbody tr th:only-of-type {\n",
       "        vertical-align: middle;\n",
       "    }\n",
       "\n",
       "    .dataframe tbody tr th {\n",
       "        vertical-align: top;\n",
       "    }\n",
       "\n",
       "    .dataframe thead th {\n",
       "        text-align: right;\n",
       "    }\n",
       "</style>\n",
       "<table border=\"1\" class=\"dataframe\">\n",
       "  <thead>\n",
       "    <tr style=\"text-align: right;\">\n",
       "      <th></th>\n",
       "      <th>model</th>\n",
       "      <th>Mean_cross_val_Accuracy</th>\n",
       "      <th>Valid_Accuracy</th>\n",
       "    </tr>\n",
       "  </thead>\n",
       "  <tbody>\n",
       "    <tr>\n",
       "      <th>0</th>\n",
       "      <td>knn</td>\n",
       "      <td>0.962245</td>\n",
       "      <td>0.965556</td>\n",
       "    </tr>\n",
       "    <tr>\n",
       "      <th>1</th>\n",
       "      <td>tree</td>\n",
       "      <td>0.843505</td>\n",
       "      <td>0.845476</td>\n",
       "    </tr>\n",
       "    <tr>\n",
       "      <th>2</th>\n",
       "      <td>forest</td>\n",
       "      <td>0.857075</td>\n",
       "      <td>0.870159</td>\n",
       "    </tr>\n",
       "    <tr>\n",
       "      <th>3</th>\n",
       "      <td>SVC</td>\n",
       "      <td>0.852891</td>\n",
       "      <td>0.872778</td>\n",
       "    </tr>\n",
       "    <tr>\n",
       "      <th>4</th>\n",
       "      <td>XGB</td>\n",
       "      <td>0.931021</td>\n",
       "      <td>0.929206</td>\n",
       "    </tr>\n",
       "    <tr>\n",
       "      <th>5</th>\n",
       "      <td>knn_deckew</td>\n",
       "      <td>0.973912</td>\n",
       "      <td>0.976587</td>\n",
       "    </tr>\n",
       "    <tr>\n",
       "      <th>6</th>\n",
       "      <td>XGB_deckew</td>\n",
       "      <td>0.953639</td>\n",
       "      <td>0.949921</td>\n",
       "    </tr>\n",
       "    <tr>\n",
       "      <th>7</th>\n",
       "      <td>knn_deckew_hist</td>\n",
       "      <td>0.674388</td>\n",
       "      <td>0.676349</td>\n",
       "    </tr>\n",
       "    <tr>\n",
       "      <th>8</th>\n",
       "      <td>XGB_deckew_hist</td>\n",
       "      <td>0.695952</td>\n",
       "      <td>0.697381</td>\n",
       "    </tr>\n",
       "    <tr>\n",
       "      <th>9</th>\n",
       "      <td>knn_hist</td>\n",
       "      <td>0.577107</td>\n",
       "      <td>0.579365</td>\n",
       "    </tr>\n",
       "    <tr>\n",
       "      <th>10</th>\n",
       "      <td>XGB_hist</td>\n",
       "      <td>0.631019</td>\n",
       "      <td>0.626508</td>\n",
       "    </tr>\n",
       "  </tbody>\n",
       "</table>\n",
       "</div>"
      ],
      "text/plain": [
       "              model  Mean_cross_val_Accuracy  Valid_Accuracy\n",
       "0               knn                 0.962245        0.965556\n",
       "1              tree                 0.843505        0.845476\n",
       "2            forest                 0.857075        0.870159\n",
       "3               SVC                 0.852891        0.872778\n",
       "4               XGB                 0.931021        0.929206\n",
       "5        knn_deckew                 0.973912        0.976587\n",
       "6        XGB_deckew                 0.953639        0.949921\n",
       "7   knn_deckew_hist                 0.674388        0.676349\n",
       "8   XGB_deckew_hist                 0.695952        0.697381\n",
       "9          knn_hist                 0.577107        0.579365\n",
       "10         XGB_hist                 0.631019        0.626508"
      ]
     },
     "execution_count": 226,
     "metadata": {},
     "output_type": "execute_result"
    }
   ],
   "source": [
    "results"
   ]
  },
  {
   "cell_type": "code",
   "execution_count": null,
   "metadata": {},
   "outputs": [],
   "source": [
    "## чот сущевтенно  хуже стало"
   ]
  },
  {
   "cell_type": "markdown",
   "metadata": {},
   "source": [
    "### Попробуем некокторые морфологческие преобразования"
   ]
  },
  {
   "cell_type": "code",
   "execution_count": null,
   "metadata": {},
   "outputs": [],
   "source": [
    "# Биноризуем картинки"
   ]
  },
  {
   "cell_type": "code",
   "execution_count": 266,
   "metadata": {},
   "outputs": [
    {
     "data": {
      "text/plain": [
       "<matplotlib.image.AxesImage at 0x223159d6be0>"
      ]
     },
     "execution_count": 266,
     "metadata": {},
     "output_type": "execute_result"
    },
    {
     "data": {
      "image/png": "[encoded data removed]",
      "text/plain": [
       "<Figure size 432x288 with 1 Axes>"
      ]
     },
     "metadata": {
      "needs_background": "light"
     },
     "output_type": "display_data"
    }
   ],
   "source": [
    "plt.imshow(train_img_deckew[1], cmap='gray')"
   ]
  },
  {
   "cell_type": "code",
   "execution_count": 264,
   "metadata": {},
   "outputs": [],
   "source": [
    "def binar(img,threshold=5, max_value=255.0):\n",
    "    return max_value * (img > threshold)"
   ]
  },
  {
   "cell_type": "code",
   "execution_count": 268,
   "metadata": {
    "scrolled": true
   },
   "outputs": [
    {
     "data": {
      "text/plain": [
       "<matplotlib.image.AxesImage at 0x22323417b70>"
      ]
     },
     "execution_count": 268,
     "metadata": {},
     "output_type": "execute_result"
    },
    {
     "data": {
      "image/png": "[encoded data removed]",
      "text/plain": [
       "<Figure size 432x288 with 1 Axes>"
      ]
     },
     "metadata": {
      "needs_background": "light"
     },
     "output_type": "display_data"
    }
   ],
   "source": [
    "plt.imshow(binar(train_img_deckew[1]))"
   ]
  },
  {
   "cell_type": "code",
   "execution_count": 291,
   "metadata": {},
   "outputs": [],
   "source": [
    "a=binar(train_img_deckew[1])\n"
   ]
  },
  {
   "cell_type": "code",
   "execution_count": 303,
   "metadata": {},
   "outputs": [
    {
     "data": {
      "text/plain": [
       "array([[0., 0., 0., 0., 0., 0., 0., 0., 0., 0., 0., 0., 0., 0., 0., 0.,\n",
       "        0., 0., 0., 0., 0., 0., 0., 0., 0., 0., 0., 0.],\n",
       "       [0., 0., 0., 0., 0., 0., 0., 0., 0., 0., 0., 0., 0., 0., 0., 0.,\n",
       "        0., 0., 0., 0., 0., 0., 0., 0., 0., 0., 0., 0.],\n",
       "       [0., 0., 0., 0., 0., 0., 0., 0., 0., 0., 0., 0., 0., 0., 0., 0.,\n",
       "        0., 0., 0., 0., 0., 0., 0., 0., 0., 0., 0., 0.],\n",
       "       [0., 0., 0., 0., 0., 0., 0., 0., 0., 0., 0., 0., 0., 0., 0., 0.,\n",
       "        0., 0., 0., 0., 0., 0., 0., 0., 0., 0., 0., 0.],\n",
       "       [0., 0., 0., 0., 0., 0., 0., 0., 0., 0., 0., 0., 0., 0., 0., 0.,\n",
       "        0., 0., 0., 0., 0., 0., 0., 0., 0., 0., 0., 0.],\n",
       "       [0., 0., 0., 0., 0., 0., 0., 0., 0., 0., 0., 0., 0., 0., 0., 0.,\n",
       "        0., 0., 0., 0., 0., 0., 0., 0., 0., 0., 0., 0.],\n",
       "       [0., 0., 0., 0., 0., 0., 0., 0., 0., 0., 0., 0., 0., 0., 0., 0.,\n",
       "        0., 0., 0., 0., 0., 0., 0., 0., 0., 0., 0., 0.],\n",
       "       [0., 0., 0., 0., 0., 0., 0., 0., 0., 0., 0., 0., 0., 0., 0., 0.,\n",
       "        0., 0., 0., 0., 0., 0., 0., 0., 0., 0., 0., 0.],\n",
       "       [0., 0., 0., 0., 0., 0., 0., 0., 0., 0., 0., 0., 0., 0., 0., 0.,\n",
       "        0., 0., 0., 0., 0., 0., 0., 0., 0., 0., 0., 0.],\n",
       "       [0., 0., 0., 0., 0., 0., 0., 0., 0., 0., 0., 0., 0., 0., 0., 0.,\n",
       "        0., 0., 0., 0., 0., 0., 0., 0., 0., 0., 0., 0.],\n",
       "       [0., 0., 0., 0., 0., 0., 0., 0., 0., 0., 0., 0., 0., 0., 0., 0.,\n",
       "        0., 0., 0., 0., 0., 0., 0., 0., 0., 0., 0., 0.],\n",
       "       [0., 0., 0., 0., 0., 0., 0., 0., 0., 0., 0., 0., 0., 0., 0., 0.,\n",
       "        0., 0., 0., 0., 0., 0., 0., 0., 0., 0., 0., 0.],\n",
       "       [0., 0., 0., 0., 0., 0., 0., 0., 0., 0., 0., 0., 0., 0., 0., 0.,\n",
       "        0., 0., 0., 0., 0., 0., 0., 0., 0., 0., 0., 0.],\n",
       "       [0., 0., 0., 0., 0., 0., 0., 0., 0., 0., 0., 0., 0., 0., 0., 0.,\n",
       "        0., 0., 0., 0., 0., 0., 0., 0., 0., 0., 0., 0.],\n",
       "       [0., 0., 0., 0., 0., 0., 0., 0., 0., 0., 0., 0., 0., 0., 0., 0.,\n",
       "        0., 0., 0., 0., 0., 0., 0., 0., 0., 0., 0., 0.],\n",
       "       [0., 0., 0., 0., 0., 0., 0., 0., 0., 0., 0., 0., 0., 0., 0., 0.,\n",
       "        0., 0., 0., 0., 0., 0., 0., 0., 0., 0., 0., 0.],\n",
       "       [0., 0., 0., 0., 0., 0., 0., 0., 0., 0., 0., 0., 0., 0., 0., 0.,\n",
       "        0., 0., 0., 0., 0., 0., 0., 0., 0., 0., 0., 0.],\n",
       "       [0., 0., 0., 0., 0., 0., 0., 0., 0., 0., 0., 0., 0., 0., 0., 0.,\n",
       "        0., 0., 0., 0., 0., 0., 0., 0., 0., 0., 0., 0.],\n",
       "       [0., 0., 0., 0., 0., 0., 0., 0., 0., 0., 0., 0., 0., 0., 0., 0.,\n",
       "        0., 0., 0., 0., 0., 0., 0., 0., 0., 0., 0., 0.],\n",
       "       [0., 0., 0., 0., 0., 0., 0., 0., 0., 0., 0., 0., 0., 0., 0., 0.,\n",
       "        0., 0., 0., 0., 0., 0., 0., 0., 0., 0., 0., 0.],\n",
       "       [0., 0., 0., 0., 0., 0., 0., 0., 0., 0., 0., 0., 0., 0., 0., 0.,\n",
       "        0., 0., 0., 0., 0., 0., 0., 0., 0., 0., 0., 0.],\n",
       "       [0., 0., 0., 0., 0., 0., 0., 0., 0., 0., 0., 0., 0., 0., 0., 0.,\n",
       "        0., 0., 0., 0., 0., 0., 0., 0., 0., 0., 0., 0.],\n",
       "       [0., 0., 0., 0., 0., 0., 0., 0., 0., 0., 0., 0., 0., 0., 0., 0.,\n",
       "        0., 0., 0., 0., 0., 0., 0., 0., 0., 0., 0., 0.],\n",
       "       [0., 0., 0., 0., 0., 0., 0., 0., 0., 0., 0., 0., 0., 0., 0., 0.,\n",
       "        0., 0., 0., 0., 0., 0., 0., 0., 0., 0., 0., 0.],\n",
       "       [0., 0., 0., 0., 0., 0., 0., 0., 0., 0., 0., 0., 0., 0., 0., 0.,\n",
       "        0., 0., 0., 0., 0., 0., 0., 0., 0., 0., 0., 0.],\n",
       "       [0., 0., 0., 0., 0., 0., 0., 0., 0., 0., 0., 0., 0., 0., 0., 0.,\n",
       "        0., 0., 0., 0., 0., 0., 0., 0., 0., 0., 0., 0.],\n",
       "       [0., 0., 0., 0., 0., 0., 0., 0., 0., 0., 0., 0., 0., 0., 0., 0.,\n",
       "        0., 0., 0., 0., 0., 0., 0., 0., 0., 0., 0., 0.],\n",
       "       [0., 0., 0., 0., 0., 0., 0., 0., 0., 0., 0., 0., 0., 0., 0., 0.,\n",
       "        0., 0., 0., 0., 0., 0., 0., 0., 0., 0., 0., 0.]])"
      ]
     },
     "execution_count": 303,
     "metadata": {},
     "output_type": "execute_result"
    }
   ],
   "source": [
    "ret"
   ]
  },
  {
   "cell_type": "code",
   "execution_count": 382,
   "metadata": {},
   "outputs": [],
   "source": [
    "def Morpholog_transformation(img,method='erode',k_size=1):\n",
    "    kernel = np.ones((k_size, k_size), np.float32)\n",
    "    ret = np.zeros_like(img)\n",
    "    for i in range(len(img)):\n",
    "       # ret=2\n",
    "        if    method == 'erode':\n",
    "            ret[i] = cv2.erode(img[i],kernel,iterations = 1)[:, 0]\n",
    "        elif  method == 'dilate':\n",
    "            ret[i] = cv2.dilate(img[i],kernel,iterations = 1)[:, 0]\n",
    "        elif  method == 'open':\n",
    "            ret[i] = cv2.morphologyEx(img[i], cv2.MORPH_OPEN,kernel)[:, 0]\n",
    "        elif  method == 'close':\n",
    "            ret[i] = cv2.morphologyEx(img[i],cv2.MORPH_CLOSE,kernel)[:, 0]\n",
    "    return ret"
   ]
  },
  {
   "cell_type": "code",
   "execution_count": 425,
   "metadata": {},
   "outputs": [],
   "source": [
    "kernels=[1,2,3,5,8]\n",
    "methods=['erode','dilate','open','close']"
   ]
  },
  {
   "cell_type": "code",
   "execution_count": 427,
   "metadata": {},
   "outputs": [
    {
     "name": "stdout",
     "output_type": "stream",
     "text": [
      "1 erode\n",
      "1 dilate\n",
      "1 open\n",
      "1 close\n",
      "2 erode\n",
      "2 dilate\n",
      "2 open\n",
      "2 close\n",
      "3 erode\n",
      "3 dilate\n",
      "3 open\n",
      "3 close\n",
      "5 erode\n",
      "5 dilate\n",
      "5 open\n",
      "5 close\n",
      "8 erode\n",
      "8 dilate\n",
      "8 open\n",
      "8 close\n"
     ]
    }
   ],
   "source": [
    "for ker  in kernels:\n",
    "    for met in methods:\n",
    "        print(ker,met)"
   ]
  },
  {
   "cell_type": "code",
   "execution_count": 417,
   "metadata": {},
   "outputs": [],
   "source": [
    "kernels=[1,2]\n",
    "methods=['erode']"
   ]
  },
  {
   "cell_type": "code",
   "execution_count": null,
   "metadata": {},
   "outputs": [],
   "source": [
    "plt.imshow(Morpholog_transformation(a,method='close',k_size=3))"
   ]
  },
  {
   "cell_type": "code",
   "execution_count": null,
   "metadata": {
    "scrolled": true
   },
   "outputs": [
    {
     "name": "stdout",
     "output_type": "stream",
     "text": [
      "____________________________________________________________________\n",
      "1 erode\n",
      "knn Mean_cross_val_Accuracy  0.9739117620901359  Valid_Accuracy:  0.9765873015873016\n",
      "____________________________________________________________________\n",
      "1 erode\n",
      "XGB Mean_cross_val_Accuracy  0.9536389493357179  Valid_Accuracy:  0.9499206349206349\n",
      "____________________________________________________________________\n",
      "1 dilate\n",
      "knn Mean_cross_val_Accuracy  0.9739117620901359  Valid_Accuracy:  0.9765873015873016\n",
      "____________________________________________________________________\n",
      "1 dilate\n",
      "XGB Mean_cross_val_Accuracy  0.9536389493357179  Valid_Accuracy:  0.9499206349206349\n",
      "____________________________________________________________________\n",
      "1 open\n",
      "knn Mean_cross_val_Accuracy  0.9739117620901359  Valid_Accuracy:  0.9765873015873016\n",
      "____________________________________________________________________\n",
      "1 open\n",
      "XGB Mean_cross_val_Accuracy  0.9536389493357179  Valid_Accuracy:  0.9499206349206349\n",
      "____________________________________________________________________\n",
      "1 close\n",
      "knn Mean_cross_val_Accuracy  0.9739117620901359  Valid_Accuracy:  0.9765873015873016\n",
      "____________________________________________________________________\n",
      "1 close\n",
      "XGB Mean_cross_val_Accuracy  0.9536389493357179  Valid_Accuracy:  0.9499206349206349\n",
      "____________________________________________________________________\n",
      "2 erode\n",
      "knn Mean_cross_val_Accuracy  0.9630278689195979  Valid_Accuracy:  0.9657142857142857\n",
      "____________________________________________________________________\n",
      "2 erode\n",
      "XGB Mean_cross_val_Accuracy  0.9493195616940703  Valid_Accuracy:  0.9492063492063492\n",
      "____________________________________________________________________\n",
      "2 dilate\n",
      "knn Mean_cross_val_Accuracy  0.97615631919593  Valid_Accuracy:  0.978015873015873\n",
      "____________________________________________________________________\n",
      "2 dilate\n",
      "XGB Mean_cross_val_Accuracy  0.9564282680114996  Valid_Accuracy:  0.9527777777777777\n"
     ]
    }
   ],
   "source": [
    "\n",
    "for ker  in kernels:\n",
    "    for met in methods:\n",
    "        #print(ker,met)\n",
    "        #print('train_img_deckew_'+met+'_k_size_'+str(ker))\n",
    "        globals()['train_img_deckew_'+met+'_k_size_'+str(ker)]=np.array(list(map(partial(Morpholog_transformation,method=met,k_size=ker),train_img_deckew)))\n",
    "        X_train, X_valid, y_train, y_valid = train_test_split(np.resize(eval('train_img_deckew_'+met+'_k_size_'+str(ker)), (train.shape[0], 28*28)), train_label, test_size=0.30, random_state=42)\n",
    "        \n",
    "        \n",
    "        for est in estimators: \n",
    "            globals()[est+'_deckew_'+met+'_k_size_'+str(ker)]=estimators[est]\n",
    "            eval(est+'_deckew_'+met+'_k_size_'+str(ker)).fit(X_train,y_train)\n",
    "            cross_val_scores = cross_val_score(eval(est+'_deckew_'+met+'_k_size_'+str(ker)), X_train,y_train, cv=5,n_jobs=-1)\n",
    "            valid_score=accuracy_score(y_valid, eval(est+'_deckew').predict(X_valid))\n",
    "            print('____________________________________________________________________')\n",
    "            print(ker,met)\n",
    "            print(est+' Mean_cross_val_Accuracy ',cross_val_scores.mean(),' Valid_Accuracy: ' ,valid_score)\n",
    "            results = results.append({'model' : est+'_deckew_'+met+'_k_size_'+str(ker) , 'Mean_cross_val_Accuracy' : cross_val_scores.mean(),'Valid_Accuracy':valid_score} , ignore_index=True)\n",
    "           "
   ]
  },
  {
   "cell_type": "code",
   "execution_count": null,
   "metadata": {},
   "outputs": [],
   "source": [
    "#results=results.drop([5])"
   ]
  },
  {
   "cell_type": "code",
   "execution_count": 433,
   "metadata": {},
   "outputs": [
    {
     "data": {
      "text/html": [
       "<div>\n",
       "<style scoped>\n",
       "    .dataframe tbody tr th:only-of-type {\n",
       "        vertical-align: middle;\n",
       "    }\n",
       "\n",
       "    .dataframe tbody tr th {\n",
       "        vertical-align: top;\n",
       "    }\n",
       "\n",
       "    .dataframe thead th {\n",
       "        text-align: right;\n",
       "    }\n",
       "</style>\n",
       "<table border=\"1\" class=\"dataframe\">\n",
       "  <thead>\n",
       "    <tr style=\"text-align: right;\">\n",
       "      <th></th>\n",
       "      <th>model</th>\n",
       "      <th>Mean_cross_val_Accuracy</th>\n",
       "      <th>Valid_Accuracy</th>\n",
       "    </tr>\n",
       "  </thead>\n",
       "  <tbody>\n",
       "    <tr>\n",
       "      <th>0</th>\n",
       "      <td>knn</td>\n",
       "      <td>0.962245</td>\n",
       "      <td>0.965556</td>\n",
       "    </tr>\n",
       "    <tr>\n",
       "      <th>1</th>\n",
       "      <td>tree</td>\n",
       "      <td>0.843505</td>\n",
       "      <td>0.845476</td>\n",
       "    </tr>\n",
       "    <tr>\n",
       "      <th>2</th>\n",
       "      <td>forest</td>\n",
       "      <td>0.857075</td>\n",
       "      <td>0.870159</td>\n",
       "    </tr>\n",
       "    <tr>\n",
       "      <th>3</th>\n",
       "      <td>SVC</td>\n",
       "      <td>0.852891</td>\n",
       "      <td>0.872778</td>\n",
       "    </tr>\n",
       "    <tr>\n",
       "      <th>4</th>\n",
       "      <td>XGB</td>\n",
       "      <td>0.931021</td>\n",
       "      <td>0.929206</td>\n",
       "    </tr>\n",
       "    <tr>\n",
       "      <th>5</th>\n",
       "      <td>knn_deckew</td>\n",
       "      <td>0.973912</td>\n",
       "      <td>0.976587</td>\n",
       "    </tr>\n",
       "    <tr>\n",
       "      <th>6</th>\n",
       "      <td>XGB_deckew</td>\n",
       "      <td>0.953639</td>\n",
       "      <td>0.949921</td>\n",
       "    </tr>\n",
       "    <tr>\n",
       "      <th>7</th>\n",
       "      <td>knn_deckew_hist</td>\n",
       "      <td>0.674388</td>\n",
       "      <td>0.676349</td>\n",
       "    </tr>\n",
       "    <tr>\n",
       "      <th>8</th>\n",
       "      <td>XGB_deckew_hist</td>\n",
       "      <td>0.695952</td>\n",
       "      <td>0.697381</td>\n",
       "    </tr>\n",
       "    <tr>\n",
       "      <th>9</th>\n",
       "      <td>knn_hist</td>\n",
       "      <td>0.577107</td>\n",
       "      <td>0.579365</td>\n",
       "    </tr>\n",
       "    <tr>\n",
       "      <th>10</th>\n",
       "      <td>XGB_hist</td>\n",
       "      <td>0.631019</td>\n",
       "      <td>0.626508</td>\n",
       "    </tr>\n",
       "  </tbody>\n",
       "</table>\n",
       "</div>"
      ],
      "text/plain": [
       "              model  Mean_cross_val_Accuracy  Valid_Accuracy\n",
       "0               knn                 0.962245        0.965556\n",
       "1              tree                 0.843505        0.845476\n",
       "2            forest                 0.857075        0.870159\n",
       "3               SVC                 0.852891        0.872778\n",
       "4               XGB                 0.931021        0.929206\n",
       "5        knn_deckew                 0.973912        0.976587\n",
       "6        XGB_deckew                 0.953639        0.949921\n",
       "7   knn_deckew_hist                 0.674388        0.676349\n",
       "8   XGB_deckew_hist                 0.695952        0.697381\n",
       "9          knn_hist                 0.577107        0.579365\n",
       "10         XGB_hist                 0.631019        0.626508"
      ]
     },
     "execution_count": 433,
     "metadata": {},
     "output_type": "execute_result"
    }
   ],
   "source": [
    "results"
   ]
  }
 ],
 "metadata": {
  "kernelspec": {
   "display_name": "Python 3",
   "language": "python",
   "name": "python3"
  },
  "language_info": {
   "codemirror_mode": {
    "name": "ipython",
    "version": 3
   },
   "file_extension": ".py",
   "mimetype": "text/x-python",
   "name": "python",
   "nbconvert_exporter": "python",
   "pygments_lexer": "ipython3",
   "version": "3.7.1"
  }
 },
 "nbformat": 4,
 "nbformat_minor": 2
}
